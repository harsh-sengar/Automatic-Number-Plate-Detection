{
 "cells": [
  {
   "cell_type": "code",
   "execution_count": 1,
   "metadata": {},
   "outputs": [
    {
     "name": "stderr",
     "output_type": "stream",
     "text": [
      "Using TensorFlow backend.\n"
     ]
    }
   ],
   "source": [
    "import cv2\n",
    "import numpy as np\n",
    "import math\n",
    "import Main\n",
    "\n",
    "GAUSSIAN_SMOOTH_FILTER_SIZE = (5, 5)\n",
    "ADAPTIVE_THRESH_BLOCK_SIZE = 19\n",
    "ADAPTIVE_THRESH_WEIGHT = 9\n"
   ]
  },
  {
   "cell_type": "code",
   "execution_count": 2,
   "metadata": {},
   "outputs": [],
   "source": [
    "\n",
    "def extractValue(imgOriginal):\n",
    "    height, width, numChannels = imgOriginal.shape\n",
    "\n",
    "    imgHSV = np.zeros((height, width, 3), np.uint8)\n",
    "\n",
    "    imgHSV = cv2.cvtColor(imgOriginal, cv2.COLOR_BGR2HSV)\n",
    "\n",
    "    imgHue, imgSaturation, imgValue = cv2.split(imgHSV)\n",
    "\n",
    "    return imgValue"
   ]
  },
  {
   "cell_type": "code",
   "execution_count": 3,
   "metadata": {},
   "outputs": [],
   "source": [
    "def maximizeContrast(imgGrayscale):\n",
    "\n",
    "    height, width = imgGrayscale.shape\n",
    "\n",
    "    imgTopHat = np.zeros((height, width, 1), np.uint8)\n",
    "    imgBlackHat = np.zeros((height, width, 1), np.uint8)\n",
    "\n",
    "    structuringElement = cv2.getStructuringElement(cv2.MORPH_RECT, (3, 3)) \n",
    "\n",
    "    imgTopHat = cv2.morphologyEx(imgGrayscale, cv2.MORPH_TOPHAT, structuringElement) \n",
    "    imgBlackHat = cv2.morphologyEx(imgGrayscale, cv2.MORPH_BLACKHAT, structuringElement) \n",
    "    imgGrayscalePlusTopHat = cv2.add(imgGrayscale, imgTopHat)\n",
    "    imgGrayscalePlusTopHatMinusBlackHat = cv2.subtract(imgGrayscalePlusTopHat, imgBlackHat)\n",
    "\n",
    "    return imgGrayscalePlusTopHatMinusBlackHat"
   ]
  },
  {
   "cell_type": "code",
   "execution_count": 4,
   "metadata": {},
   "outputs": [],
   "source": [
    "# Preprocess.py\n",
    "\n",
    "def preprocess(imgOriginal):\n",
    "    imgGrayscale = extractValue(imgOriginal) \n",
    "  \n",
    "    imgMaxContrastGrayscale = maximizeContrast(imgGrayscale)\n",
    "    height,width = imgGrayscale.shape\n",
    "    imgBlurred = np.zeros((height, width, 1), np.uint8)\n",
    "\n",
    "    imgBlurred = cv2.GaussianBlur(imgMaxContrastGrayscale, GAUSSIAN_SMOOTH_FILTER_SIZE, 0) \n",
    "    imgThresh = cv2.adaptiveThreshold(imgBlurred, 255.0, cv2.ADAPTIVE_THRESH_GAUSSIAN_C, cv2.THRESH_BINARY_INV, ADAPTIVE_THRESH_BLOCK_SIZE, ADAPTIVE_THRESH_WEIGHT)\n",
    "    \n",
    "    return imgGrayscale, imgThresh\n"
   ]
  },
  {
   "cell_type": "code",
   "execution_count": null,
   "metadata": {},
   "outputs": [],
   "source": []
  }
 ],
 "metadata": {
  "kernelspec": {
   "display_name": "Python 3",
   "language": "python",
   "name": "python3"
  },
  "language_info": {
   "codemirror_mode": {
    "name": "ipython",
    "version": 3
   },
   "file_extension": ".py",
   "mimetype": "text/x-python",
   "name": "python",
   "nbconvert_exporter": "python",
   "pygments_lexer": "ipython3",
   "version": "3.6.7"
  }
 },
 "nbformat": 4,
 "nbformat_minor": 2
}
