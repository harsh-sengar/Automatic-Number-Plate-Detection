{
 "cells": [
  {
   "cell_type": "code",
   "execution_count": 1,
   "metadata": {},
   "outputs": [],
   "source": [
    "# PossibleChar\n",
    "import cv2\n",
    "import numpy as np\n",
    "import math"
   ]
  },
  {
   "cell_type": "code",
   "execution_count": 2,
   "metadata": {},
   "outputs": [],
   "source": [
    "class PossibleChar:\n",
    "    def __init__(self, _contour):\n",
    "        self.contour = _contour\n",
    "\n",
    "        self.boundingRect = cv2.boundingRect(self.contour) # It gives the (x,y,w,h) of a straight rectangle that bounds the contour. It is not sensetive to the rotation of the obejct ,so its area will not be minimum.\n",
    "\n",
    "        [intX, intY, intWidth, intHeight] = self.boundingRect\n",
    "\n",
    "        self.intBoundingRectX = intX\n",
    "        self.intBoundingRectY = intY\n",
    "        self.intBoundingRectWidth = intWidth\n",
    "        self.intBoundingRectHeight = intHeight\n",
    "\n",
    "        self.intBoundingRectArea = self.intBoundingRectWidth * self.intBoundingRectHeight\n",
    "\n",
    "        self.intCenterX = (self.intBoundingRectX + self.intBoundingRectX + self.intBoundingRectWidth) / 2\n",
    "        self.intCenterY = (self.intBoundingRectY + self.intBoundingRectY + self.intBoundingRectHeight) / 2\n",
    "\n",
    "        self.fltDiagonalSize = math.sqrt((self.intBoundingRectWidth ** 2) + (self.intBoundingRectHeight ** 2))\n",
    "\n",
    "        self.fltAspectRatio = float(self.intBoundingRectWidth) / float(self.intBoundingRectHeight)\n"
   ]
  }
 ],
 "metadata": {
  "kernelspec": {
   "display_name": "Python 3",
   "language": "python",
   "name": "python3"
  },
  "language_info": {
   "codemirror_mode": {
    "name": "ipython",
    "version": 3
   },
   "file_extension": ".py",
   "mimetype": "text/x-python",
   "name": "python",
   "nbconvert_exporter": "python",
   "pygments_lexer": "ipython3",
   "version": "3.6.7"
  }
 },
 "nbformat": 4,
 "nbformat_minor": 2
}
