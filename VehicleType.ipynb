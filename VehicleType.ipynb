{
 "cells": [
  {
   "cell_type": "code",
   "execution_count": 8,
   "metadata": {},
   "outputs": [],
   "source": [
    "import cv2\n",
    "from PIL import Image\n",
    "import math\n",
    "import random\n",
    "from keras.models import Sequential\n",
    "from keras.layers.core import Dense, Dropout, Flatten\n",
    "from keras.layers.convolutional import Conv2D\n",
    "from keras.optimizers import Adam\n",
    "from keras.layers.pooling import MaxPooling2D\n",
    "from keras.utils import to_categorical\n",
    "import matplotlib.pyplot as plt\n",
    "from keras.models import load_model\n",
    "# from keras.optimizers import RMSprop\n",
    "from keras import optimizers\n",
    "size= (32, 32)"
   ]
  },
  {
   "cell_type": "code",
   "execution_count": 9,
   "metadata": {},
   "outputs": [],
   "source": [
    "def GetModel():\n",
    "    model = Sequential()\n",
    "    model.add(Conv2D(64, (5, 5), activation = \"relu\", kernel_initializer = 'he_normal' , padding = \"same\", input_shape=(32, 32, 1)))\n",
    "    model.add(MaxPooling2D(pool_size = (2, 2),  strides = (1,1)))\n",
    "    model.add(Conv2D(128, (5, 5), activation = \"relu\", padding = \"same\", kernel_initializer = 'he_normal'))\n",
    "    # model.add(MaxPooling2D(pool_size = (2, 2),  strides = (1,1)))\n",
    "    model.add(Flatten())\n",
    "    model.add(Dense(256, activation = \"relu\",  kernel_initializer = 'he_normal'))\n",
    "    # model.add(Dense(128, activation = \"relu\",  kernel_initializer = 'he_normal'))\n",
    "    # model.add(Dense(256, activation = \"relu\",  kernel_initializer = 'he_normal'))\n",
    "    model.add(Dropout(0.2))\n",
    "    model.add(Dense(3, activation = \"softmax\"))\n",
    "    sgd = optimizers.SGD(lr = 0.0008)\n",
    "    model.compile(loss='categorical_crossentropy', optimizer=sgd, metrics=['accuracy'])\n",
    "    return model"
   ]
  },
  {
   "cell_type": "code",
   "execution_count": 14,
   "metadata": {},
   "outputs": [],
   "source": [
    "def IdentifyVehicle(image):\n",
    "    model = GetModel()\n",
    "    model.load_weights('Identification/VehicleModel.h5')\n",
    "    OriginamImage = cv2.imread(image)\n",
    "    OriginamImage = cv2.resize(OriginamImage, size)\n",
    "    imgGray = cv2.cvtColor(OriginamImage, cv2.COLOR_BGR2GRAY)\n",
    "    imgGray = imgGray.reshape((1, 32, 32, 1))\n",
    "    ypred = model.predict(imgGray)\n",
    "    if ypred[0][0] == 0:\n",
    "        return 'bus'\n",
    "    elif ypred[0][0] == 1:\n",
    "        return 'car'\n",
    "    else:\n",
    "        return 'pickup_truck'"
   ]
  },
  {
   "cell_type": "code",
   "execution_count": 15,
   "metadata": {},
   "outputs": [
    {
     "data": {
      "text/plain": [
       "'car'"
      ]
     },
     "execution_count": 15,
     "metadata": {},
     "output_type": "execute_result"
    }
   ],
   "source": [
    "# image = 'C:\\\\Users\\\\Archit\\\\Desktop\\\\frame2.jpg'\n",
    "# IdentifyVehicle(image)"
   ]
  },
  {
   "cell_type": "code",
   "execution_count": null,
   "metadata": {},
   "outputs": [],
   "source": []
  }
 ],
 "metadata": {
  "kernelspec": {
   "display_name": "Python 3",
   "language": "python",
   "name": "python3"
  },
  "language_info": {
   "codemirror_mode": {
    "name": "ipython",
    "version": 3
   },
   "file_extension": ".py",
   "mimetype": "text/x-python",
   "name": "python",
   "nbconvert_exporter": "python",
   "pygments_lexer": "ipython3",
   "version": "3.6.5"
  }
 },
 "nbformat": 4,
 "nbformat_minor": 2
}
