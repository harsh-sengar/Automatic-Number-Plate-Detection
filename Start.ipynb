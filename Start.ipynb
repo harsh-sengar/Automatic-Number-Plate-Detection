{
 "cells": [
  {
   "cell_type": "code",
   "execution_count": 1,
   "metadata": {},
   "outputs": [
    {
     "name": "stderr",
     "output_type": "stream",
     "text": [
      "C:\\Users\\Archit\\Anaconda3\\lib\\site-packages\\h5py\\__init__.py:36: FutureWarning: Conversion of the second argument of issubdtype from `float` to `np.floating` is deprecated. In future, it will be treated as `np.float64 == np.dtype(float).type`.\n",
      "  from ._conv import register_converters as _register_converters\n",
      "Using TensorFlow backend.\n"
     ]
    }
   ],
   "source": [
    "import os\n",
    "import time\n",
    "import datetime\n",
    "import VehicleType\n",
    "import videosplit1\n",
    "import Main\n",
    "import cv2\n",
    "from PIL import Image"
   ]
  },
  {
   "cell_type": "code",
   "execution_count": 2,
   "metadata": {},
   "outputs": [],
   "source": [
    "def call():\n",
    "    name = str(input('Enter the name of the video: '))\n",
    "    #print(name)\n",
    "    (vdolength,totalFrames) = videosplit1.VideoToFrame(name)\n",
    "    os.chdir('data')\n",
    "    vehicle = {}\n",
    "    result = {}\n",
    "    result_imag = {}\n",
    "    startTime = time.time()\n",
    "    for f in os.listdir():\n",
    "        #print(f)\n",
    "        pred, img = Main.main(f)\n",
    "        output = VehicleType.IdentifyVehicle(f)\n",
    "        # checking for vehicle type.\n",
    "        if output in vehicle.keys():\n",
    "            vehicle[output]+=1\n",
    "        else:\n",
    "            vehicle[output]=1\n",
    "        # checking for number plate\n",
    "        if pred in result.keys():\n",
    "            result[pred] = result[pred] + 1\n",
    "        elif pred != ' ':\n",
    "            result[pred] = 1\n",
    "            result_imag[pred] = img\n",
    "            \n",
    "    endTime = time.time()\n",
    "    l = {x: y for y, x in result.items()}\n",
    "    r = list(sorted(l.keys()))\n",
    "    index = r[len(r) - 1]\n",
    "    plate = l[index]\n",
    "    img = result_imag[plate]\n",
    "    executionTime = \"{0:.2f}\".format(endTime - startTime)\n",
    "    print('The name plate is :', plate, ' frequency is: ', result[plate])\n",
    "    maxvehicle = max(vehicle, key = vehicle.get)\n",
    "    print(\"Vehicle is \", maxvehicle)\n",
    "    try:\n",
    "    \tImage.fromarray(img).show()\n",
    "    except:\n",
    "        print(\"Problem in displaying license plate\")\n",
    "    print('execution time is : ' + executionTime)\n",
    "    \n",
    "    os.chdir('..')\n",
    "    licensePlatePath = './LicensePlates/'+name.split('.')[0]+'.jpg'\n",
    "    try:\n",
    "        cv2.imwrite(licensePlatePath,img)\n",
    "    except:\n",
    "        print(\"Problem in writing license plate image\")"
   ]
  },
  {
   "cell_type": "code",
   "execution_count": null,
   "metadata": {},
   "outputs": [],
   "source": [
    "call()"
   ]
  },
  {
   "cell_type": "code",
   "execution_count": null,
   "metadata": {},
   "outputs": [],
   "source": []
  }
 ],
 "metadata": {
  "kernelspec": {
   "display_name": "Python 3",
   "language": "python",
   "name": "python3"
  },
  "language_info": {
   "codemirror_mode": {
    "name": "ipython",
    "version": 3
   },
   "file_extension": ".py",
   "mimetype": "text/x-python",
   "name": "python",
   "nbconvert_exporter": "python",
   "pygments_lexer": "ipython3",
   "version": "3.6.5"
  },
  "widgets": {
   "state": {},
   "version": "1.1.2"
  }
 },
 "nbformat": 4,
 "nbformat_minor": 2
}
